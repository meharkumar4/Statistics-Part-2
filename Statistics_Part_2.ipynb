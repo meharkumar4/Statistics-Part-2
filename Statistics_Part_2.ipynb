{
  "nbformat": 4,
  "nbformat_minor": 0,
  "metadata": {
    "colab": {
      "provenance": []
    },
    "kernelspec": {
      "name": "python3",
      "display_name": "Python 3"
    },
    "language_info": {
      "name": "python"
    }
  },
  "cells": [
    {
      "cell_type": "markdown",
      "source": [
        "#Statistics Part 2\n"
      ],
      "metadata": {
        "id": "yn7Qi2-I-X5F"
      }
    },
    {
      "cell_type": "markdown",
      "source": [
        "1. What is hypothesis testing in statistics?\n",
        "- Hypothesis testing is a statistical method used to make decisions based on data. It tests assumptions (hypotheses) about population parameters. It helps determine whether there is enough evidence to support a specific claim or if results happened by random chance.\n",
        "\n",
        "2. What is the null hypothesis, and how does it differ from the alternative hypothesis?\n",
        "- The null hypothesis (H₀) assumes no effect or difference, while the alternative hypothesis (H₁) proposes a change or effect. Hypothesis testing aims to reject or fail to reject the null hypothesis based on the data and evidence.\n",
        "\n",
        "3. What is the significance level in hypothesis testing, and why is it important?\n",
        "- The significance level (α) is the probability of rejecting the null hypothesis when it is true, commonly set at 0.05. It represents the tolerance for error and helps determine the threshold for deciding whether results are statistically significant.\n",
        "\n",
        "4. What does a P-value represent in hypothesis testing?\n",
        "- The P-value measures the probability of observing the data, or something more extreme, assuming the null hypothesis is true. A small P-value indicates strong evidence against the null hypothesis and supports the alternative hypothesis.\n",
        "\n",
        "5. How do you interpret the P-value in hypothesis testing?\n",
        "- If the P-value is less than the significance level (e.g., 0.05), you reject the null hypothesis. If it is greater, you fail to reject the null hypothesis. The smaller the P-value, the stronger the evidence against the null.\n",
        "\n",
        "6. What are Type 1 and Type 2 errors in hypothesis testing?\n",
        "- A Type 1 error occurs when the null hypothesis is rejected when it is actually true. A Type 2 error occurs when the null hypothesis is not rejected when it is false. Both errors affect the reliability of conclusions.\n",
        "\n",
        "7. What is the difference between a one-tailed and a two-tailed test in hypothesis testing?\n",
        "- A one-tailed test checks for a deviation in one specific direction, while a two-tailed test checks for deviations in both directions. Use one-tailed when the effect is expected in a specific direction and two-tailed when any direction is possible.\n",
        "\n",
        "8. What is the Z-test, and when is it used in hypothesis testing?\n",
        "- The Z-test is used to compare sample and population means when the population variance is known and the sample size is large (typically n > 30). It assumes normal distribution and helps test whether observed differences are statistically significant.\n",
        "\n",
        "9. How do you calculate the Z-score, and what does it represent in hypothesis testing?\n",
        "- The Z-score is calculated as (sample mean − population mean) divided by the standard error. It represents how many standard deviations the sample result is from the population mean. A high absolute value suggests statistical significance.\n",
        "\n",
        "10. What is the T-distribution, and when should it be used instead of the normal distribution?\n",
        "- The T-distribution is used when the sample size is small (typically n < 30) and the population standard deviation is unknown. It accounts for more variability and is ideal for estimating means when data follows a normal distribution.\n",
        "\n",
        "11. What is the difference between a Z-test and a T-test?\n",
        "- The Z-test is used for large samples with known population variance, while the T-test is for small samples with unknown population variance. Both test differences in means, but the T-test uses the sample standard deviation.\n",
        "\n",
        "12. What is the T-test, and how is it used in hypothesis testing?\n",
        "- A T-test compares the means of one or two groups to determine if there is a significant difference. It's used when the sample size is small and the population standard deviation is unknown, assuming data is approximately normal.\n",
        "\n",
        "13. What is the relationship between Z-test and T-test in hypothesis testing?\n",
        "- Both the Z-test and T-test assess differences in means. The Z-test is used with known variance and large samples; the T-test is used with estimated variance and small samples. As sample size increases, the T-distribution approaches the Z-distribution.\n",
        "\n",
        "14. What is a confidence interval, and how is it used to interpret statistical results?\n",
        "- A confidence interval gives a range of values within which a population parameter likely falls. It provides more information than a single estimate and shows the uncertainty level in the result, often using 95% or 99% confidence levels.\n",
        "\n",
        "15. What is the margin of error, and how does it affect the confidence interval?\n",
        "- The margin of error represents the maximum expected difference between the true population parameter and a sample estimate. A larger margin results in a wider confidence interval, indicating more uncertainty, while a smaller margin gives more precision.\n",
        "\n",
        "16. How is Bayes' Theorem used in statistics, and what is its significance?\n",
        "- Bayes' Theorem updates the probability of a hypothesis based on new evidence. It is useful in fields like machine learning, diagnostics, and decision-making where prior knowledge is combined with observed data to make informed predictions.\n",
        "\n",
        "17. What is the Chi-square distribution, and when is it used?\n",
        "- The Chi-square distribution is used in hypothesis testing for categorical data. It is applied in tests like the Chi-square test of independence or goodness of fit to assess whether observed data differs from expected data.\n",
        "\n",
        "18. What is the Chi-square goodness of fit test, and how is it applied?\n",
        "- The Chi-square goodness of fit test evaluates whether a sample distribution matches an expected distribution. It compares observed frequencies to expected ones across categories and determines if differences are due to chance or a real effect.\n",
        "\n",
        "19. What is the F-distribution, and when is it used in hypothesis testing?\n",
        "- The F-distribution is used to compare variances between two or more groups. It's most commonly used in ANOVA and regression analysis. It helps determine if group variances are equal or if differences are statistically significant.\n",
        "\n",
        "20. What is an ANOVA test, and what are its assumptions?\n",
        "- ANOVA (Analysis of Variance) tests whether there are significant differences between means of three or more groups. Assumptions include normality, equal variances, and independent samples. A significant result suggests at least one group differs.\n",
        "\n",
        "21. What are the different types of ANOVA tests?\n",
        "- There are three main types: one-way ANOVA (one independent variable), two-way ANOVA (two independent variables), and repeated measures ANOVA (same subjects measured multiple times). Each tests different kinds of group differences in means.\n",
        "\n",
        "22. What is the F-test, and how does it relate to hypothesis testing?\n",
        "- The F-test compares the variances of two populations to assess if they are significantly different. It is commonly used in ANOVA and regression analysis. A significant F-test indicates that group variances or model fits differ meaningfully."
      ],
      "metadata": {
        "id": "UMcSST4S-fIb"
      }
    },
    {
      "cell_type": "markdown",
      "source": [
        "#Practical"
      ],
      "metadata": {
        "id": "K0SREL1X_eZ3"
      }
    },
    {
      "cell_type": "code",
      "source": [
        "# 1. Write a Python program to perform a Z-test for comparing a sample mean to a known population mean and interpret the results\n",
        "import numpy as np\n",
        "from scipy.stats import norm\n",
        "\n",
        "data = [67, 70, 72, 65, 68, 75, 74, 69, 73, 71]\n",
        "sample_mean = np.mean(data)\n",
        "population_mean = 70\n",
        "std_dev = 3\n",
        "n = len(data)\n",
        "\n",
        "z = (sample_mean - population_mean) / (std_dev / np.sqrt(n))\n",
        "p_value = 2 * (1 - norm.cdf(abs(z)))\n",
        "print(\"Z-score:\", z)\n",
        "print(\"P-value:\", p_value)\n"
      ],
      "metadata": {
        "id": "KqVxFsvc_hVq"
      },
      "execution_count": null,
      "outputs": []
    },
    {
      "cell_type": "code",
      "source": [
        "# 2. Simulate random data to perform hypothesis testing and calculate the corresponding P-value using Python\n",
        "import numpy as np\n",
        "from scipy.stats import ttest_1samp\n",
        "\n",
        "data = np.random.normal(loc=100, scale=15, size=50)\n",
        "t_stat, p_value = ttest_1samp(data, 100)\n",
        "print(\"T-statistic:\", t_stat)\n",
        "print(\"P-value:\", p_value)\n"
      ],
      "metadata": {
        "id": "4WhLKp2A_w9E"
      },
      "execution_count": null,
      "outputs": []
    },
    {
      "cell_type": "code",
      "source": [
        "# 3. Implement a one-sample Z-test using Python to compare the sample mean with the population mean\n",
        "import numpy as np\n",
        "from scipy.stats import norm\n",
        "\n",
        "sample = np.array([98, 100, 102, 99, 97, 101, 103])\n",
        "pop_mean = 100\n",
        "std = 2\n",
        "z_score = (np.mean(sample) - pop_mean) / (std / np.sqrt(len(sample)))\n",
        "p_val = 2 * (1 - norm.cdf(abs(z_score)))\n",
        "print(\"Z-score:\", z_score)\n",
        "print(\"P-value:\", p_val)\n"
      ],
      "metadata": {
        "id": "d9ulxae4_zHL"
      },
      "execution_count": null,
      "outputs": []
    },
    {
      "cell_type": "code",
      "source": [
        "# 4. Perform a two-tailed Z-test using Python and visualize the decision region on a plot\n",
        "import numpy as np\n",
        "import matplotlib.pyplot as plt\n",
        "from scipy.stats import norm\n",
        "\n",
        "mean, std, n = 100, 15, 36\n",
        "sample_mean = 105\n",
        "z = (sample_mean - mean) / (std / np.sqrt(n))\n",
        "x = np.linspace(-4, 4, 1000)\n",
        "y = norm.pdf(x)\n",
        "\n",
        "plt.plot(x, y)\n",
        "plt.axvline(x=z, color='r', linestyle='--')\n",
        "plt.fill_between(x, 0, y, where=(x < -1.96) | (x > 1.96), color='gray', alpha=0.5)\n",
        "plt.title(f\"Z = {z}\")\n",
        "plt.show()\n"
      ],
      "metadata": {
        "id": "z2OHTRP2_0o7"
      },
      "execution_count": null,
      "outputs": []
    },
    {
      "cell_type": "code",
      "source": [
        "# 5. Create a Python function that calculates and visualizes Type 1 and Type 2 errors during hypothesis testing\n",
        "import numpy as np\n",
        "import matplotlib.pyplot as plt\n",
        "from scipy.stats import norm\n",
        "\n",
        "def visualize_errors(mu0=100, mu1=105, sigma=10, n=30, alpha=0.05):\n",
        "    se = sigma / np.sqrt(n)\n",
        "    z_alpha = norm.ppf(1 - alpha)\n",
        "    x = np.linspace(80, 120, 500)\n",
        "    y0 = norm.pdf(x, mu0, se)\n",
        "    y1 = norm.pdf(x, mu1, se)\n",
        "\n",
        "    critical_value = mu0 + z_alpha * se\n",
        "    plt.plot(x, y0, label='H0')\n",
        "    plt.plot(x, y1, label='H1')\n",
        "    plt.fill_between(x, 0, y0, where=(x > critical_value), color='red', alpha=0.3, label='Type I Error')\n",
        "    plt.fill_between(x, 0, y1, where=(x <= critical_value), color='blue', alpha=0.3, label='Type II Error')\n",
        "    plt.legend()\n",
        "    plt.title(\"Type I and II Errors\")\n",
        "    plt.show()\n",
        "\n",
        "visualize_errors()\n"
      ],
      "metadata": {
        "id": "Ppzagnsc_2Dk"
      },
      "execution_count": null,
      "outputs": []
    },
    {
      "cell_type": "code",
      "source": [
        "# 6. Write a Python program to perform an independent T-test and interpret the results\n",
        "import numpy as np\n",
        "from scipy.stats import ttest_ind\n",
        "\n",
        "group1 = np.random.normal(100, 10, 30)\n",
        "group2 = np.random.normal(105, 10, 30)\n",
        "t_stat, p_val = ttest_ind(group1, group2)\n",
        "print(\"T-statistic:\", t_stat)\n",
        "print(\"P-value:\", p_val)\n"
      ],
      "metadata": {
        "id": "jn8egHOD_3qj"
      },
      "execution_count": null,
      "outputs": []
    },
    {
      "cell_type": "code",
      "source": [
        "# 7. Perform a paired sample T-test using Python and visualize the comparison results\n",
        "import numpy as np\n",
        "from scipy.stats import ttest_rel\n",
        "import matplotlib.pyplot as plt\n",
        "\n",
        "before = np.random.normal(90, 10, 20)\n",
        "after = before + np.random.normal(5, 5, 20)\n",
        "t_stat, p_val = ttest_rel(before, after)\n",
        "plt.plot(before, label=\"Before\")\n",
        "plt.plot(after, label=\"After\")\n",
        "plt.legend()\n",
        "plt.title(\"Paired Sample T-Test\")\n",
        "plt.show()\n",
        "print(\"T-statistic:\", t_stat)\n",
        "print(\"P-value:\", p_val)\n"
      ],
      "metadata": {
        "id": "VdM_DF-q_5E7"
      },
      "execution_count": null,
      "outputs": []
    },
    {
      "cell_type": "code",
      "source": [
        "# 8. Simulate data and perform both Z-test and T-test, then compare the results using Python\n",
        "import numpy as np\n",
        "from scipy.stats import ttest_1samp, norm\n",
        "\n",
        "data = np.random.normal(100, 10, 25)\n",
        "pop_mean = 100\n",
        "sample_mean = np.mean(data)\n",
        "sample_std = np.std(data, ddof=1)\n",
        "z = (sample_mean - pop_mean) / (10 / np.sqrt(len(data)))\n",
        "t_stat, t_pval = ttest_1samp(data, pop_mean)\n",
        "z_pval = 2 * (1 - norm.cdf(abs(z)))\n",
        "print(\"Z-test P-value:\", z_pval)\n",
        "print(\"T-test P-value:\", t_pval)\n"
      ],
      "metadata": {
        "id": "mpOrZhCR_6q7"
      },
      "execution_count": null,
      "outputs": []
    },
    {
      "cell_type": "code",
      "source": [
        "# 9. Write a Python function to calculate the confidence interval for a sample mean and explain its significance\n",
        "import numpy as np\n",
        "from scipy.stats import t\n",
        "\n",
        "def confidence_interval(data, confidence=0.95):\n",
        "    n = len(data)\n",
        "    mean = np.mean(data)\n",
        "    std_err = np.std(data, ddof=1) / np.sqrt(n)\n",
        "    margin = t.ppf((1 + confidence) / 2, n - 1) * std_err\n",
        "    return (mean - margin, mean + margin)\n",
        "\n",
        "data = np.random.normal(50, 5, 30)\n",
        "print(\"Confidence Interval:\", confidence_interval(data))\n"
      ],
      "metadata": {
        "id": "poqE_jS6_7-T"
      },
      "execution_count": null,
      "outputs": []
    },
    {
      "cell_type": "code",
      "source": [
        "# 10. Write a Python program to calculate the margin of error for a given confidence level using sample data\n",
        "\n",
        "import numpy as np\n",
        "from scipy.stats import norm\n",
        "\n",
        "def margin_of_error(data, confidence=0.95):\n",
        "    n = len(data)\n",
        "    std_err = np.std(data, ddof=1) / np.sqrt(n)\n",
        "    z_score = norm.ppf((1 + confidence) / 2)\n",
        "    return z_score * std_err\n",
        "\n",
        "sample_data = np.random.normal(100, 15, 50)\n",
        "moe = margin_of_error(sample_data, 0.95)\n",
        "print(\"Margin of Error:\", moe)\n"
      ],
      "metadata": {
        "id": "6tjgYNFS_9Y1"
      },
      "execution_count": null,
      "outputs": []
    },
    {
      "cell_type": "code",
      "source": [
        "# 11. Implement a Bayesian inference method using Bayes' Theorem in Python and explain the process\n",
        "\n",
        "# P(A|B) = (P(B|A) * P(A)) / P(B)\n",
        "\n",
        "def bayes_theorem(p_a, p_b_given_a, p_b_given_not_a):\n",
        "    p_not_a = 1 - p_a\n",
        "    p_b = p_b_given_a * p_a + p_b_given_not_a * p_not_a\n",
        "    p_a_given_b = (p_b_given_a * p_a) / p_b\n",
        "    return p_a_given_b\n",
        "\n",
        "# Example values\n",
        "p_a = 0.01               # Prior probability of having disease\n",
        "p_b_given_a = 0.9        # Probability of testing positive given disease\n",
        "p_b_given_not_a = 0.05   # Probability of testing positive without disease\n",
        "\n",
        "posterior = bayes_theorem(p_a, p_b_given_a, p_b_given_not_a)\n",
        "print(\"Posterior probability P(A|B):\", posterior)\n"
      ],
      "metadata": {
        "id": "6s6CW-Z2A8u5"
      },
      "execution_count": null,
      "outputs": []
    },
    {
      "cell_type": "code",
      "source": [
        "# 12. Perform a Chi-square test for independence between two categorical variables in Python\n",
        "\n",
        "import pandas as pd\n",
        "from scipy.stats import chi2_contingency\n",
        "\n",
        "# Sample contingency table\n",
        "data = pd.DataFrame({\n",
        "    'Male': [20, 30],\n",
        "    'Female': [30, 20]\n",
        "}, index=['Likes Product', 'Dislikes Product'])\n",
        "\n",
        "# Perform Chi-square test\n",
        "chi2, p, dof, expected = chi2_contingency(data)\n",
        "\n",
        "print(\"Chi-square Statistic:\", chi2)\n",
        "print(\"Degrees of Freedom:\", dof)\n",
        "print(\"P-value:\", p)\n",
        "print(\"Expected Frequencies:\\n\", expected)\n"
      ],
      "metadata": {
        "id": "UtksNdbFBGOj"
      },
      "execution_count": null,
      "outputs": []
    },
    {
      "cell_type": "code",
      "source": [
        "# 13. Write a Python program to calculate the expected frequencies for a Chi-square test based on observed data\n",
        "import numpy as np\n",
        "from scipy.stats import chi2_contingency\n",
        "\n",
        "observed = np.array([[20, 30], [30, 20]])\n",
        "chi2, p, dof, expected = chi2_contingency(observed)\n",
        "print(\"Expected Frequencies:\\n\", expected)\n"
      ],
      "metadata": {
        "id": "4Ka-M8KrBODT"
      },
      "execution_count": null,
      "outputs": []
    },
    {
      "cell_type": "code",
      "source": [
        "# 14. Perform a goodness-of-fit test using Python to compare the observed data to an expected distribution\n",
        "from scipy.stats import chisquare\n",
        "\n",
        "observed = [50, 30, 20]\n",
        "expected = [40, 40, 20]\n",
        "stat, p = chisquare(f_obs=observed, f_exp=expected)\n",
        "print(\"Chi-square Statistic:\", stat, \"\\nP-value:\", p)\n"
      ],
      "metadata": {
        "id": "DlPGq36ZBhOA"
      },
      "execution_count": null,
      "outputs": []
    },
    {
      "cell_type": "code",
      "source": [
        "# 15. Create a Python script to simulate and visualize the Chi-square distribution and discuss its characteristics\n",
        "import matplotlib.pyplot as plt\n",
        "import numpy as np\n",
        "from scipy.stats import chi2\n",
        "\n",
        "x = np.linspace(0, 30, 500)\n",
        "df = 4\n",
        "plt.plot(x, chi2.pdf(x, df), label=f'df={df}')\n",
        "plt.title('Chi-square Distribution')\n",
        "plt.xlabel('Value')\n",
        "plt.ylabel('Probability Density')\n",
        "plt.legend()\n",
        "plt.grid()\n",
        "plt.show()\n"
      ],
      "metadata": {
        "id": "5PkqNa5qBi0_"
      },
      "execution_count": null,
      "outputs": []
    },
    {
      "cell_type": "code",
      "source": [
        "# 16. Implement an F-test using Python to compare the variances of two random samples\n",
        "import scipy.stats as stats\n",
        "\n",
        "data1 = np.random.normal(10, 2, 50)\n",
        "data2 = np.random.normal(10, 3, 50)\n",
        "\n",
        "f_stat = np.var(data1, ddof=1) / np.var(data2, ddof=1)\n",
        "dof1 = len(data1) - 1\n",
        "dof2 = len(data2) - 1\n",
        "p_value = 1 - stats.f.cdf(f_stat, dof1, dof2)\n",
        "\n",
        "print(\"F-statistic:\", f_stat, \"\\nP-value:\", p_value)\n"
      ],
      "metadata": {
        "id": "cCyxbakvBkPw"
      },
      "execution_count": null,
      "outputs": []
    },
    {
      "cell_type": "code",
      "source": [
        "# 17. Write a Python program to perform an ANOVA test to compare means between multiple groups and interpret the results\n",
        "import scipy.stats as stats\n",
        "\n",
        "group1 = np.random.normal(5, 1, 30)\n",
        "group2 = np.random.normal(5.5, 1, 30)\n",
        "group3 = np.random.normal(6, 1, 30)\n",
        "\n",
        "f_stat, p_value = stats.f_oneway(group1, group2, group3)\n",
        "print(\"F-statistic:\", f_stat, \"\\nP-value:\", p_value)\n"
      ],
      "metadata": {
        "id": "0vm8kJdsBlqY"
      },
      "execution_count": null,
      "outputs": []
    },
    {
      "cell_type": "code",
      "source": [
        "# 18. Perform a one-way ANOVA test using Python to compare the means of different groups and plot the results\n",
        "import seaborn as sns\n",
        "import matplotlib.pyplot as plt\n",
        "import pandas as pd\n",
        "\n",
        "data = pd.DataFrame({\n",
        "    \"value\": np.concatenate([group1, group2, group3]),\n",
        "    \"group\": [\"A\"] * 30 + [\"B\"] * 30 + [\"C\"] * 30\n",
        "})\n",
        "\n",
        "sns.boxplot(x=\"group\", y=\"value\", data=data)\n",
        "plt.title(\"One-way ANOVA Boxplot\")\n",
        "plt.show()\n"
      ],
      "metadata": {
        "id": "BDJmjNxkBnIY"
      },
      "execution_count": null,
      "outputs": []
    },
    {
      "cell_type": "code",
      "source": [
        "# 19. Write a Python function to check the assumptions (normality, independence, and equal variance) for ANOVA\n",
        "from scipy.stats import shapiro, levene\n",
        "\n",
        "def check_anova_assumptions(*groups):\n",
        "    for i, group in enumerate(groups):\n",
        "        stat, p = shapiro(group)\n",
        "        print(f\"Group {i+1} Shapiro-Wilk p-value (Normality):\", p)\n",
        "    stat, p = levene(*groups)\n",
        "    print(\"Levene's Test p-value (Equal variance):\", p)\n",
        "\n",
        "check_anova_assumptions(group1, group2, group3)\n"
      ],
      "metadata": {
        "id": "zCzHatOGBoaY"
      },
      "execution_count": null,
      "outputs": []
    },
    {
      "cell_type": "code",
      "source": [
        "# 20. Perform a two-way ANOVA test using Python to study the interaction between two factors and visualize the results\n",
        "import statsmodels.api as sm\n",
        "from statsmodels.formula.api import ols\n",
        "\n",
        "df = pd.DataFrame({\n",
        "    'score': np.random.rand(60),\n",
        "    'factor1': ['A', 'A', 'B', 'B'] * 15,\n",
        "    'factor2': ['X', 'Y'] * 30\n",
        "})\n",
        "\n",
        "model = ols('score ~ C(factor1) + C(factor2) + C(factor1):C(factor2)', data=df).fit()\n",
        "anova_table = sm.stats.anova_lm(model, typ=2)\n",
        "print(anova_table)\n"
      ],
      "metadata": {
        "id": "yGAx3QbYBqu7"
      },
      "execution_count": null,
      "outputs": []
    },
    {
      "cell_type": "code",
      "source": [
        "# 21. Write a Python program to visualize the F-distribution and discuss its use in hypothesis testing\n",
        "x = np.linspace(0.01, 5, 500)\n",
        "dfn, dfd = 5, 20\n",
        "plt.plot(x, stats.f.pdf(x, dfn, dfd), label='F-distribution')\n",
        "plt.title('F-distribution Curve')\n",
        "plt.xlabel('F value')\n",
        "plt.ylabel('Probability Density')\n",
        "plt.grid()\n",
        "plt.legend()\n",
        "plt.show()\n"
      ],
      "metadata": {
        "id": "2fwSUlVbBrYw"
      },
      "execution_count": null,
      "outputs": []
    },
    {
      "cell_type": "code",
      "source": [
        "# 22. Perform a one-way ANOVA test in Python and visualize the results with boxplots to compare group means\n",
        "# Reuse group1, group2, group3 and previous boxplot code from Q18\n",
        "f_stat, p_value = stats.f_oneway(group1, group2, group3)\n",
        "print(\"One-way ANOVA result:\\nF-statistic:\", f_stat, \"\\nP-value:\", p_value)\n"
      ],
      "metadata": {
        "id": "aUUMEUcEBsl4"
      },
      "execution_count": null,
      "outputs": []
    },
    {
      "cell_type": "code",
      "source": [
        "# 23. Simulate random data from a normal distribution, then perform hypothesis testing to evaluate the means\n",
        "sample = np.random.normal(loc=50, scale=10, size=100)\n",
        "t_stat, p_value = stats.ttest_1samp(sample, popmean=50)\n",
        "print(\"T-statistic:\", t_stat, \"\\nP-value:\", p_value)\n"
      ],
      "metadata": {
        "id": "hZ0qtK5zBumT"
      },
      "execution_count": null,
      "outputs": []
    },
    {
      "cell_type": "code",
      "source": [
        "# 24. Perform a hypothesis test for population variance using a Chi-square distribution and interpret the results\n",
        "sample_var = np.var(sample, ddof=1)\n",
        "n = len(sample)\n",
        "sigma_sq = 100  # population variance\n",
        "chi2_stat = (n - 1) * sample_var / sigma_sq\n",
        "p_value = 1 - stats.chi2.cdf(chi2_stat, df=n - 1)\n",
        "print(\"Chi-square Statistic:\", chi2_stat, \"\\nP-value:\", p_value)\n"
      ],
      "metadata": {
        "id": "fT7l9AqTBxdE"
      },
      "execution_count": null,
      "outputs": []
    },
    {
      "cell_type": "code",
      "source": [
        "# 25. Write a Python script to perform a Z-test for comparing proportions between two datasets or groups\n",
        "from statsmodels.stats.proportion import proportions_ztest\n",
        "\n",
        "success = np.array([40, 30])\n",
        "nobs = np.array([100, 90])\n",
        "z_stat, p_val = proportions_ztest(success, nobs)\n",
        "print(\"Z-statistic:\", z_stat, \"\\nP-value:\", p_val)\n"
      ],
      "metadata": {
        "id": "ZZdCOG-XBzI_"
      },
      "execution_count": null,
      "outputs": []
    },
    {
      "cell_type": "code",
      "source": [
        "# 26. Implement an F-test for comparing the variances of two datasets, then interpret and visualize the results\n",
        "f_stat = np.var(group1, ddof=1) / np.var(group2, ddof=1)\n",
        "p_value = 1 - stats.f.cdf(f_stat, len(group1)-1, len(group2)-1)\n",
        "print(\"F-statistic:\", f_stat, \"\\nP-value:\", p_value)\n"
      ],
      "metadata": {
        "id": "ZmELAfzmB0YT"
      },
      "execution_count": null,
      "outputs": []
    },
    {
      "cell_type": "code",
      "source": [
        "# 27. Perform a Chi-square test for goodness of fit with simulated data and analyze the results\n",
        "observed = [18, 22, 20]\n",
        "expected = [20, 20, 20]\n",
        "chi2_stat, p_val = chisquare(observed, expected)\n",
        "print(\"Chi-square Statistic:\", chi2_stat, \"\\nP-value:\", p_val)\n"
      ],
      "metadata": {
        "id": "O2EfwafyB2PQ"
      },
      "execution_count": null,
      "outputs": []
    }
  ]
}